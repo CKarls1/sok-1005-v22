{
 "cells": [
  {
   "cell_type": "markdown",
   "id": "153b236e-c7cb-4854-80a8-5b0ab50a3091",
   "metadata": {},
   "source": [
    "Koder er hentet fra tigjenglige Notebooks av Espen Sirnes og nettsiden https://seaborn.pydata.org/generated/seaborn.regplot.html"
   ]
  },
  {
   "cell_type": "code",
   "execution_count": 1,
   "id": "fb51aa61-4450-4460-820c-797ca52ea072",
   "metadata": {},
   "outputs": [
    {
     "name": "stdout",
     "output_type": "stream",
     "text": [
      "<table class=\"table table-sm\"><thead><tr><th class=\"w-5\"></th><th class=\"w-30\">Navn</th><th class=\"text-right clickable\">Inntekt<i class=\"material-icons md-14 middle\"></i></th><th class=\"text-right clickable\">Formue</th><th class=\"text-right clickable\">Skatt</th></tr></thead><tbody><tr><td>1<!-- -->.</td><td><div class=\"name\">BENEDICTE SIGRID BERG<!-- --> <!-- -->SCHILBRED</div><div class=\"text-muted\"><a class=\"text-muted\" href=\"/spesial/skattelister/2020/5401/\">Tromsø</a>, f.<!-- --> <!-- -->1946</div></td><td class=\"text-right\">22 811 592</td><td class=\"text-right\">518 064 470</td><td class=\"text-right\">9 856 942</td></tr><tr><td>2<!-- -->.</td><td><div class=\"name\">BJØRNAR HALLSTEIN<!-- --> <!-- -->DANIELSEN</div><div class=\"text-muted\"><a class=\"text-muted\" href=\"/spesial/skattelister/2020/5401/\">Tromsø</a>, f.<!-- --> <!-- -->1947</div></td><td class=\"text-right\">18 971 820</td><td class=\"text-right\">3 215 530</td><td class=\"text-right\">6 023 447</td></tr><tr><td>3<!-- -->.</td><\n"
     ]
    }
   ],
   "source": [
    "from bs4 import BeautifulSoup\n",
    "import requests\n",
    "\n",
    "def fetch_html_tables(url):\n",
    "    \"Returns a list of tables in the html of url\"\n",
    "    page = requests.get(url)\n",
    "    bs=BeautifulSoup(page.content)\n",
    "    tables=bs.find_all('table')\n",
    "    return tables\n",
    "\n",
    "tables=fetch_html_tables('https://e24.no/spesial/skattelister/2020/5401/')\n",
    "table_html=tables[0]\n",
    "\n",
    "#printing top\n",
    "print(str(table_html)[:1000])"
   ]
  },
  {
   "cell_type": "code",
   "execution_count": 2,
   "id": "cfde4bec-7493-4c3e-9cfc-8e918f274970",
   "metadata": {},
   "outputs": [
    {
     "name": "stdout",
     "output_type": "stream",
     "text": [
      "[['', 'Navn', 'Inntekt\\ue5cf', 'Formue', 'Skatt'], ['1.', 'BENEDICTE SIGRID BERG SCHILBREDTromsø, f.1946', '22811592', '518064470', '9856942'], ['2.', 'BJØRNAR HALLSTEIN DANIELSENTromsø, f.1947', '18971820', '3215530', '6023447'], ['3.', 'ROAR DONSTromsø, f.1954', '16087630', '466128321', '9108653'], ['4.', 'EINAR SØRENSENTromsø, f.1951', '15011383', '86093233', '4050878'], ['5.', 'BERIT BREKMO TØLLEFSENTromsø, f.1959', '13628090', '25050145', '4505435'], ['6.', 'TROELS WALSTED HANSENTromsø, f.1976', '11898099', '6273045', '5326270'], ['7.', 'LIV ÅSE LINDRUPSENTromsø, f.1947', '11834931', '5099172', '2640883'], ['8.', 'TOR HARALD LINDRUPSENTromsø, f.1948', '11764685', '9430602', '2664120'], ['9.', 'ERIK MATHISENTromsø, f.1976', '11641156', '68190031', '4296212'], ['10.', 'LARS IVER MAGNE LARSENTromsø, f.1963', '11211420', '11786044', '3732898'], ['11.', 'SIGBJØRN ESPENESTromsø, f.1972', '10374454', '36206408', '3683318'], ['12.', 'RUNE HANSENTromsø, f.1973', '10241964', '94100605', '41\n"
     ]
    }
   ],
   "source": [
    "def html_to_table(html):\n",
    "    \"Returns the table defined in html as a list\"\n",
    "    #defining the table:\n",
    "    table=[]\n",
    "    #iterating over all rows\n",
    "    for row in html.find_all('tr'):\n",
    "        r=[]\n",
    "        #finding all cells in each row:\n",
    "        cells=row.find_all('td')\n",
    "        \n",
    "        #if no cells are found, look for headings\n",
    "        if len(cells)==0:\n",
    "            cells=row.find_all('th')\n",
    "            \n",
    "        #iterate over cells:\n",
    "        for cell in cells:\n",
    "            cell=format(cell)\n",
    "            r.append(cell)\n",
    "        \n",
    "        #append the row to t:\n",
    "        table.append(r)\n",
    "    return table\n",
    "\n",
    "def format(cell):\n",
    "    \"Returns a string after converting bs4 object cell to clean text\"\n",
    "    if cell.content is None:\n",
    "        s=cell.text\n",
    "    elif len(cell.content)==0:\n",
    "        return ''\n",
    "    else:\n",
    "        s=' '.join([str(c) for c in cell.content])\n",
    "        \n",
    "    #here you can add additional characters/strings you want to \n",
    "    #remove, change punctuations or format the string in other\n",
    "    #ways:\n",
    "    s=s.replace('\\xa0','')\n",
    "    s=s.replace('\\n','')\n",
    "    return s\n",
    "\n",
    "table=html_to_table(table_html)\n",
    "\n",
    "#printing top\n",
    "print(str(table)[:1000])"
   ]
  },
  {
   "cell_type": "code",
   "execution_count": 3,
   "id": "71aaf08a-9c03-472e-8e37-cb3f1f4a550c",
   "metadata": {},
   "outputs": [
    {
     "data": {
      "text/plain": [
       "';Navn;Inntekt\\ue5cf;Formue;Skatt'"
      ]
     },
     "execution_count": 3,
     "metadata": {},
     "output_type": "execute_result"
    }
   ],
   "source": [
    "';'.join(table[0])"
   ]
  },
  {
   "cell_type": "code",
   "execution_count": 4,
   "id": "39998dc9-ab1f-42fc-b686-1989e43ba01d",
   "metadata": {},
   "outputs": [],
   "source": [
    "def save_data(file_name,table):\n",
    "    \"Saves table to file_name\"\n",
    "    f=open(file_name,'w')\n",
    "    for row in table:\n",
    "        f.write(';'.join(row)+'\\n')\n",
    "    f.close()\n",
    "    \n",
    "save_data('Inntekt.csv',table)"
   ]
  },
  {
   "cell_type": "code",
   "execution_count": 5,
   "id": "073e8cef-9f8c-4489-9be5-d4846c6155f5",
   "metadata": {},
   "outputs": [
    {
     "data": {
      "text/html": [
       "<div>\n",
       "<style scoped>\n",
       "    .dataframe tbody tr th:only-of-type {\n",
       "        vertical-align: middle;\n",
       "    }\n",
       "\n",
       "    .dataframe tbody tr th {\n",
       "        vertical-align: top;\n",
       "    }\n",
       "\n",
       "    .dataframe thead th {\n",
       "        text-align: right;\n",
       "    }\n",
       "</style>\n",
       "<table border=\"1\" class=\"dataframe\">\n",
       "  <thead>\n",
       "    <tr style=\"text-align: right;\">\n",
       "      <th></th>\n",
       "      <th>Navn</th>\n",
       "      <th>Inntekt</th>\n",
       "      <th>Formue</th>\n",
       "      <th>Skatt</th>\n",
       "    </tr>\n",
       "  </thead>\n",
       "  <tbody>\n",
       "    <tr>\n",
       "      <th>0</th>\n",
       "      <td>BENEDICTE SIGRID BERG SCHILBREDTromsø, f.1946</td>\n",
       "      <td>22811592</td>\n",
       "      <td>518064470</td>\n",
       "      <td>9856942</td>\n",
       "    </tr>\n",
       "    <tr>\n",
       "      <th>1</th>\n",
       "      <td>BJØRNAR HALLSTEIN DANIELSENTromsø, f.1947</td>\n",
       "      <td>18971820</td>\n",
       "      <td>3215530</td>\n",
       "      <td>6023447</td>\n",
       "    </tr>\n",
       "    <tr>\n",
       "      <th>2</th>\n",
       "      <td>ROAR DONSTromsø, f.1954</td>\n",
       "      <td>16087630</td>\n",
       "      <td>466128321</td>\n",
       "      <td>9108653</td>\n",
       "    </tr>\n",
       "    <tr>\n",
       "      <th>3</th>\n",
       "      <td>EINAR SØRENSENTromsø, f.1951</td>\n",
       "      <td>15011383</td>\n",
       "      <td>86093233</td>\n",
       "      <td>4050878</td>\n",
       "    </tr>\n",
       "    <tr>\n",
       "      <th>4</th>\n",
       "      <td>BERIT BREKMO TØLLEFSENTromsø, f.1959</td>\n",
       "      <td>13628090</td>\n",
       "      <td>25050145</td>\n",
       "      <td>4505435</td>\n",
       "    </tr>\n",
       "    <tr>\n",
       "      <th>5</th>\n",
       "      <td>TROELS WALSTED HANSENTromsø, f.1976</td>\n",
       "      <td>11898099</td>\n",
       "      <td>6273045</td>\n",
       "      <td>5326270</td>\n",
       "    </tr>\n",
       "    <tr>\n",
       "      <th>6</th>\n",
       "      <td>LIV ÅSE LINDRUPSENTromsø, f.1947</td>\n",
       "      <td>11834931</td>\n",
       "      <td>5099172</td>\n",
       "      <td>2640883</td>\n",
       "    </tr>\n",
       "    <tr>\n",
       "      <th>7</th>\n",
       "      <td>TOR HARALD LINDRUPSENTromsø, f.1948</td>\n",
       "      <td>11764685</td>\n",
       "      <td>9430602</td>\n",
       "      <td>2664120</td>\n",
       "    </tr>\n",
       "    <tr>\n",
       "      <th>8</th>\n",
       "      <td>ERIK MATHISENTromsø, f.1976</td>\n",
       "      <td>11641156</td>\n",
       "      <td>68190031</td>\n",
       "      <td>4296212</td>\n",
       "    </tr>\n",
       "    <tr>\n",
       "      <th>9</th>\n",
       "      <td>LARS IVER MAGNE LARSENTromsø, f.1963</td>\n",
       "      <td>11211420</td>\n",
       "      <td>11786044</td>\n",
       "      <td>3732898</td>\n",
       "    </tr>\n",
       "    <tr>\n",
       "      <th>10</th>\n",
       "      <td>SIGBJØRN ESPENESTromsø, f.1972</td>\n",
       "      <td>10374454</td>\n",
       "      <td>36206408</td>\n",
       "      <td>3683318</td>\n",
       "    </tr>\n",
       "    <tr>\n",
       "      <th>11</th>\n",
       "      <td>RUNE HANSENTromsø, f.1973</td>\n",
       "      <td>10241964</td>\n",
       "      <td>94100605</td>\n",
       "      <td>4137656</td>\n",
       "    </tr>\n",
       "    <tr>\n",
       "      <th>12</th>\n",
       "      <td>RUNE BLASCHEKTromsø, f.1966</td>\n",
       "      <td>10096342</td>\n",
       "      <td>0</td>\n",
       "      <td>3344044</td>\n",
       "    </tr>\n",
       "    <tr>\n",
       "      <th>13</th>\n",
       "      <td>SNORRE SMEDSAAS STINESSENTromsø, f.1974</td>\n",
       "      <td>9364072</td>\n",
       "      <td>0</td>\n",
       "      <td>2929019</td>\n",
       "    </tr>\n",
       "    <tr>\n",
       "      <th>14</th>\n",
       "      <td>BENGT FRODE HANSENTromsø, f.1968</td>\n",
       "      <td>9096260</td>\n",
       "      <td>51673008</td>\n",
       "      <td>3378024</td>\n",
       "    </tr>\n",
       "    <tr>\n",
       "      <th>15</th>\n",
       "      <td>BENTE AKSELSENTromsø, f.1961</td>\n",
       "      <td>8719239</td>\n",
       "      <td>41108265</td>\n",
       "      <td>3198945</td>\n",
       "    </tr>\n",
       "    <tr>\n",
       "      <th>16</th>\n",
       "      <td>KNUT TORALF NYGÅRDTromsø, f.1945</td>\n",
       "      <td>8714827</td>\n",
       "      <td>15414271</td>\n",
       "      <td>2841033</td>\n",
       "    </tr>\n",
       "    <tr>\n",
       "      <th>17</th>\n",
       "      <td>ESPEN JOHANNESSENTromsø, f.1967</td>\n",
       "      <td>8305263</td>\n",
       "      <td>3694383</td>\n",
       "      <td>4107662</td>\n",
       "    </tr>\n",
       "    <tr>\n",
       "      <th>18</th>\n",
       "      <td>RUNE ØIEN MADSENTromsø, f.1973</td>\n",
       "      <td>8189604</td>\n",
       "      <td>95232428</td>\n",
       "      <td>3492021</td>\n",
       "    </tr>\n",
       "    <tr>\n",
       "      <th>19</th>\n",
       "      <td>IVAR BÆKKEN AUSTADTromsø, f.1969</td>\n",
       "      <td>8038064</td>\n",
       "      <td>159188591</td>\n",
       "      <td>4059810</td>\n",
       "    </tr>\n",
       "  </tbody>\n",
       "</table>\n",
       "</div>"
      ],
      "text/plain": [
       "                                             Navn   Inntekt     Formue  \\\n",
       "0   BENEDICTE SIGRID BERG SCHILBREDTromsø, f.1946  22811592  518064470   \n",
       "1       BJØRNAR HALLSTEIN DANIELSENTromsø, f.1947  18971820    3215530   \n",
       "2                         ROAR DONSTromsø, f.1954  16087630  466128321   \n",
       "3                    EINAR SØRENSENTromsø, f.1951  15011383   86093233   \n",
       "4            BERIT BREKMO TØLLEFSENTromsø, f.1959  13628090   25050145   \n",
       "5             TROELS WALSTED HANSENTromsø, f.1976  11898099    6273045   \n",
       "6                LIV ÅSE LINDRUPSENTromsø, f.1947  11834931    5099172   \n",
       "7             TOR HARALD LINDRUPSENTromsø, f.1948  11764685    9430602   \n",
       "8                     ERIK MATHISENTromsø, f.1976  11641156   68190031   \n",
       "9            LARS IVER MAGNE LARSENTromsø, f.1963  11211420   11786044   \n",
       "10                 SIGBJØRN ESPENESTromsø, f.1972  10374454   36206408   \n",
       "11                      RUNE HANSENTromsø, f.1973  10241964   94100605   \n",
       "12                    RUNE BLASCHEKTromsø, f.1966  10096342          0   \n",
       "13        SNORRE SMEDSAAS STINESSENTromsø, f.1974   9364072          0   \n",
       "14               BENGT FRODE HANSENTromsø, f.1968   9096260   51673008   \n",
       "15                   BENTE AKSELSENTromsø, f.1961   8719239   41108265   \n",
       "16               KNUT TORALF NYGÅRDTromsø, f.1945   8714827   15414271   \n",
       "17                ESPEN JOHANNESSENTromsø, f.1967   8305263    3694383   \n",
       "18                 RUNE ØIEN MADSENTromsø, f.1973   8189604   95232428   \n",
       "19               IVAR BÆKKEN AUSTADTromsø, f.1969   8038064  159188591   \n",
       "\n",
       "      Skatt  \n",
       "0   9856942  \n",
       "1   6023447  \n",
       "2   9108653  \n",
       "3   4050878  \n",
       "4   4505435  \n",
       "5   5326270  \n",
       "6   2640883  \n",
       "7   2664120  \n",
       "8   4296212  \n",
       "9   3732898  \n",
       "10  3683318  \n",
       "11  4137656  \n",
       "12  3344044  \n",
       "13  2929019  \n",
       "14  3378024  \n",
       "15  3198945  \n",
       "16  2841033  \n",
       "17  4107662  \n",
       "18  3492021  \n",
       "19  4059810  "
      ]
     },
     "execution_count": 5,
     "metadata": {},
     "output_type": "execute_result"
    }
   ],
   "source": [
    "import pandas as pd\n",
    "Tabell=pd.read_csv('Inntekt.csv', delimiter=';')\n",
    "Tabell=Tabell.rename(columns={'Inntekt': 'Inntekt'})\n",
    "Tabell.pop('Unnamed: 0')\n",
    "Tabell"
   ]
  },
  {
   "cell_type": "code",
   "execution_count": 6,
   "id": "ee0fcc9e-5de0-4889-91b2-a9d064f28a06",
   "metadata": {},
   "outputs": [
    {
     "name": "stdout",
     "output_type": "stream",
     "text": [
      "<class 'pandas.core.frame.DataFrame'>\n",
      "RangeIndex: 20 entries, 0 to 19\n",
      "Data columns (total 4 columns):\n",
      " #   Column   Non-Null Count  Dtype \n",
      "---  ------   --------------  ----- \n",
      " 0   Navn     20 non-null     object\n",
      " 1   Inntekt  20 non-null     int64 \n",
      " 2   Formue   20 non-null     int64 \n",
      " 3   Skatt    20 non-null     int64 \n",
      "dtypes: int64(3), object(1)\n",
      "memory usage: 768.0+ bytes\n"
     ]
    }
   ],
   "source": [
    "Tabell.info()"
   ]
  },
  {
   "cell_type": "code",
   "execution_count": 7,
   "id": "9176ddd0-97a3-4db2-81d3-ef13c26da715",
   "metadata": {},
   "outputs": [
    {
     "name": "stdout",
     "output_type": "stream",
     "text": [
      "                                 OLS Regression Results                                \n",
      "=======================================================================================\n",
      "Dep. Variable:                  Skatt   R-squared (uncentered):                   0.944\n",
      "Model:                            OLS   Adj. R-squared (uncentered):              0.941\n",
      "Method:                 Least Squares   F-statistic:                              318.1\n",
      "Date:                Tue, 29 Mar 2022   Prob (F-statistic):                    2.53e-13\n",
      "Time:                        11:45:12   Log-Likelihood:                         -307.14\n",
      "No. Observations:                  20   AIC:                                      616.3\n",
      "Df Residuals:                      19   BIC:                                      617.3\n",
      "Df Model:                           1                                                  \n",
      "Covariance Type:            nonrobust                                                  \n",
      "==============================================================================\n",
      "                 coef    std err          t      P>|t|      [0.025      0.975]\n",
      "------------------------------------------------------------------------------\n",
      "Inntekt        0.3735      0.021     17.836      0.000       0.330       0.417\n",
      "==============================================================================\n",
      "Omnibus:                        4.810   Durbin-Watson:                   2.424\n",
      "Prob(Omnibus):                  0.090   Jarque-Bera (JB):                2.602\n",
      "Skew:                           0.752   Prob(JB):                        0.272\n",
      "Kurtosis:                       3.926   Cond. No.                         1.00\n",
      "==============================================================================\n",
      "\n",
      "Notes:\n",
      "[1] R² is computed without centering (uncentered) since the model does not contain a constant.\n",
      "[2] Standard Errors assume that the covariance matrix of the errors is correctly specified.\n"
     ]
    }
   ],
   "source": [
    "from statsmodels.regression.linear_model import OLS\n",
    "\n",
    "res=OLS(Tabell['Skatt'].astype(float), Tabell['Inntekt'].astype(float)).fit()\n",
    "\n",
    "print(res.summary())"
   ]
  },
  {
   "cell_type": "markdown",
   "id": "b3ae3fdb-a1ea-4164-bf30-499881f78be1",
   "metadata": {},
   "source": [
    "Vi kan se at det er en positiv korrelasjon mellom skatt og inntekt av de top 20 høyest inntekt i Troms. I grafen ser vi at det er noen avvik ved at noen betaler mer skatt en andre med høyere inntekt. Dette kan forklares i tabellen over med at fotmue spiller en rolle inn i skatten. Alikevell kan vi tekke en positiv korrelasjon til at jo høyere inntekt individet har jo mer skatt betaler man, noe som gir mening med skattesystemet vi har i Norge. \n"
   ]
  },
  {
   "cell_type": "code",
   "execution_count": 8,
   "id": "55d0fdf8-4835-4c6d-a9f8-4c179ccbeab8",
   "metadata": {},
   "outputs": [
    {
     "data": {
      "image/png": "[encoded data removed]",
      "text/plain": [
       "<Figure size 432x288 with 1 Axes>"
      ]
     },
     "metadata": {
      "needs_background": "light"
     },
     "output_type": "display_data"
    }
   ],
   "source": [
    "import seaborn as sns\n",
    "\n",
    "\n",
    "sns.regplot(x = 'Skatt', y= 'Inntekt', data = Tabell);"
   ]
  },
  {
   "cell_type": "code",
   "execution_count": null,
   "id": "32e88368-c476-4871-961f-223c1157429d",
   "metadata": {},
   "outputs": [],
   "source": []
  }
 ],
 "metadata": {
  "kernelspec": {
   "display_name": "Python 3 (ipykernel)",
   "language": "python",
   "name": "python3"
  },
  "language_info": {
   "codemirror_mode": {
    "name": "ipython",
    "version": 3
   },
   "file_extension": ".py",
   "mimetype": "text/x-python",
   "name": "python",
   "nbconvert_exporter": "python",
   "pygments_lexer": "ipython3",
   "version": "3.9.9"
  }
 },
 "nbformat": 4,
 "nbformat_minor": 5
}
